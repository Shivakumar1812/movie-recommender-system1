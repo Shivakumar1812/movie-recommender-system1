{
 "cells": [
  {
   "cell_type": "code",
   "execution_count": 1,
   "id": "ed1deb3c-5659-44a8-8f59-405a7ab1f856",
   "metadata": {},
   "outputs": [
    {
     "name": "stdout",
     "output_type": "stream",
     "text": [
      "   user_id  item_id  rating  timestamp\n",
      "0      196      242       3  881250949\n",
      "1      186      302       3  891717742\n",
      "2       22      377       1  878887116\n",
      "3      244       51       2  880606923\n",
      "4      166      346       1  886397596\n"
     ]
    }
   ],
   "source": [
    "import pandas as pd\n",
    "column_names = ['user_id', 'item_id', 'rating', 'timestamp']\n",
    "ratings = pd.read_csv(r\"C:\\Users\\dbda39\\Downloads\\ml-100k\\u.data\",sep='\\t', names=column_names)\n",
    "print(ratings.head())\n"
   ]
  },
  {
   "cell_type": "code",
   "execution_count": 2,
   "id": "65e9a0aa-9dcc-4d88-95f5-990fe31c0ffa",
   "metadata": {},
   "outputs": [
    {
     "name": "stdout",
     "output_type": "stream",
     "text": [
      "   user_id  item_id  rating  timestamp                       title\n",
      "0      196      242       3  881250949                Kolya (1996)\n",
      "1      186      302       3  891717742    L.A. Confidential (1997)\n",
      "2       22      377       1  878887116         Heavyweights (1994)\n",
      "3      244       51       2  880606923  Legends of the Fall (1994)\n",
      "4      166      346       1  886397596         Jackie Brown (1997)\n"
     ]
    }
   ],
   "source": [
    "movie_titles = pd.read_csv(r'C:\\Users\\dbda39\\Downloads\\ml-100k\\u.item',sep='|' , encoding= 'latin-1', header=None)\n",
    "movie_titles = movie_titles[[0,1]]\n",
    "movie_titles.columns = ['item_id','title']\n",
    "data = pd.merge(ratings,movie_titles,on='item_id')\n",
    "print(data.head())"
   ]
  }
 ],
 "metadata": {
  "kernelspec": {
   "display_name": "Python 3 (ipykernel)",
   "language": "python",
   "name": "python3"
  },
  "language_info": {
   "codemirror_mode": {
    "name": "ipython",
    "version": 3
   },
   "file_extension": ".py",
   "mimetype": "text/x-python",
   "name": "python",
   "nbconvert_exporter": "python",
   "pygments_lexer": "ipython3",
   "version": "3.12.7"
  }
 },
 "nbformat": 4,
 "nbformat_minor": 5
}
